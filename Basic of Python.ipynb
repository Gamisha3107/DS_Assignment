{
 "cells": [
  {
   "cell_type": "markdown",
   "id": "2d746259-0071-4db1-aa1d-c01b4b5466b6",
   "metadata": {},
   "source": [
    "Prime Number"
   ]
  },
  {
   "cell_type": "code",
   "execution_count": 1,
   "id": "9ffc74c5-0fec-4eb4-a581-82c698dc296d",
   "metadata": {},
   "outputs": [
    {
     "name": "stdin",
     "output_type": "stream",
     "text": [
      "Enter a number: 7\n"
     ]
    },
    {
     "name": "stdout",
     "output_type": "stream",
     "text": [
      "7 is a prime number.\n"
     ]
    }
   ],
   "source": [
    "num=int(input(\"Enter a number:\"))\n",
    "if num>1:\n",
    "    for i in range(2,num):\n",
    "        if num % i == 0:\n",
    "            print(num, \"is not a prime number.\")\n",
    "            break\n",
    "    else:\n",
    "            print(num, \"is a prime number.\")\n",
    "else:\n",
    "    print(num, \"is not a prime number.\")"
   ]
  },
  {
   "cell_type": "markdown",
   "id": "fd4c9d2a-7240-4b92-9d94-801c37ca2f4e",
   "metadata": {},
   "source": [
    "Product of Random Numbers"
   ]
  },
  {
   "cell_type": "code",
   "execution_count": 2,
   "id": "bc459b0c-6468-40f5-a3c0-fb2e5f9aaadc",
   "metadata": {},
   "outputs": [
    {
     "name": "stdout",
     "output_type": "stream",
     "text": [
      "32 * 2\n"
     ]
    },
    {
     "name": "stdin",
     "output_type": "stream",
     "text": [
      "Your answer: 63\n"
     ]
    },
    {
     "name": "stdout",
     "output_type": "stream",
     "text": [
      "Answer is not correct.\n"
     ]
    }
   ],
   "source": [
    "import random\n",
    "num1 = random.randint(1,49)\n",
    "num2 = random.randint(1,49)\n",
    "print(num1,'*',num2)\n",
    "ans=int(input(\"Your answer:\"))\n",
    "if ans == num1 * num2:\n",
    "    print(\"Answer is correct.\")\n",
    "else:\n",
    "    print(\"Answer is not correct.\")"
   ]
  },
  {
   "cell_type": "markdown",
   "id": "98941631-5ae1-442d-ab1c-477e19ded29d",
   "metadata": {},
   "source": [
    "Squares of Even/Odd Numbers"
   ]
  },
  {
   "cell_type": "code",
   "execution_count": 3,
   "id": "a75d139d-13d0-4646-bdc2-8cb476e57dea",
   "metadata": {},
   "outputs": [
    {
     "name": "stdout",
     "output_type": "stream",
     "text": [
      "101^2 = 10201\n",
      "103^2 = 10609\n",
      "105^2 = 11025\n",
      "107^2 = 11449\n",
      "109^2 = 11881\n",
      "111^2 = 12321\n",
      "113^2 = 12769\n",
      "115^2 = 13225\n",
      "117^2 = 13689\n",
      "119^2 = 14161\n",
      "121^2 = 14641\n",
      "123^2 = 15129\n",
      "125^2 = 15625\n",
      "127^2 = 16129\n",
      "129^2 = 16641\n",
      "131^2 = 17161\n",
      "133^2 = 17689\n",
      "135^2 = 18225\n",
      "137^2 = 18769\n",
      "139^2 = 19321\n",
      "141^2 = 19881\n",
      "143^2 = 20449\n",
      "145^2 = 21025\n",
      "147^2 = 21609\n",
      "149^2 = 22201\n",
      "151^2 = 22801\n",
      "153^2 = 23409\n",
      "155^2 = 24025\n",
      "157^2 = 24649\n",
      "159^2 = 25281\n",
      "161^2 = 25921\n",
      "163^2 = 26569\n",
      "165^2 = 27225\n",
      "167^2 = 27889\n",
      "169^2 = 28561\n",
      "171^2 = 29241\n",
      "173^2 = 29929\n",
      "175^2 = 30625\n",
      "177^2 = 31329\n",
      "179^2 = 32041\n",
      "181^2 = 32761\n",
      "183^2 = 33489\n",
      "185^2 = 34225\n",
      "187^2 = 34969\n",
      "189^2 = 35721\n",
      "191^2 = 36481\n",
      "193^2 = 37249\n",
      "195^2 = 38025\n",
      "197^2 = 38809\n",
      "199^2 = 39601\n"
     ]
    }
   ],
   "source": [
    "for num in range(100,201):\n",
    "    if num % 2 != 0:\n",
    "        print(f\"{num}^2 = {num**2}\")"
   ]
  },
  {
   "cell_type": "markdown",
   "id": "8c0325ae-5928-4f88-8b81-4372c7058162",
   "metadata": {},
   "source": [
    "Word counter"
   ]
  },
  {
   "cell_type": "code",
   "execution_count": 4,
   "id": "fe35cd5c-1809-4c5d-8648-467954bea0d9",
   "metadata": {},
   "outputs": [
    {
     "name": "stdout",
     "output_type": "stream",
     "text": [
      "'This':'2'\n",
      "'is':'1'\n",
      "'a':'1'\n",
      "'sample':'1'\n",
      "'text.':'1'\n",
      "'text':'1'\n",
      "'will':'1'\n",
      "'be':'1'\n",
      "'used':'1'\n",
      "'to':'1'\n",
      "'demonstrate':'1'\n",
      "'the':'1'\n",
      "'word':'1'\n",
      "'counter.':'1'\n"
     ]
    }
   ],
   "source": [
    "input_text=\"This is a sample text. This text will be used to demonstrate the word counter.\"\n",
    "words=input_text.split()\n",
    "word_count={}\n",
    "for word in words:\n",
    "    word_count[word]=word_count.get(word,0)+1\n",
    "for word, count in word_count.items():\n",
    "    print(f\"'{word}':'{count}'\")"
   ]
  },
  {
   "cell_type": "markdown",
   "id": "d6002c67-0e04-4ccc-be10-924f67a94412",
   "metadata": {},
   "source": [
    "Check for Palindrome"
   ]
  },
  {
   "cell_type": "code",
   "execution_count": 5,
   "id": "5da10a6c-fa86-4e75-9959-9ef2bfd655a4",
   "metadata": {},
   "outputs": [
    {
     "name": "stdout",
     "output_type": "stream",
     "text": [
      "True\n"
     ]
    }
   ],
   "source": [
    "def isPalindrome(s):\n",
    "    return s == s[::-1]\n",
    "\n",
    "s = \"racecar\"\n",
    "ans = isPalindrome(s)\n",
    "\n",
    "if ans:\n",
    "    print(\"True\")\n",
    "else:\n",
    "    print(\"False\")"
   ]
  }
 ],
 "metadata": {
  "kernelspec": {
   "display_name": "Python [conda env:base] *",
   "language": "python",
   "name": "conda-base-py"
  },
  "language_info": {
   "codemirror_mode": {
    "name": "ipython",
    "version": 3
   },
   "file_extension": ".py",
   "mimetype": "text/x-python",
   "name": "python",
   "nbconvert_exporter": "python",
   "pygments_lexer": "ipython3",
   "version": "3.12.7"
  }
 },
 "nbformat": 4,
 "nbformat_minor": 5
}
