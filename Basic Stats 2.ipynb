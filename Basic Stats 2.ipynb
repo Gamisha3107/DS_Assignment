{
 "cells": [
  {
   "cell_type": "code",
   "execution_count": 1,
   "id": "02b125d8-16c0-48f4-9e6a-d18f2b6ec458",
   "metadata": {},
   "outputs": [],
   "source": [
    "import pandas as pd\n",
    "import numpy as np\n",
    "from scipy import stats"
   ]
  },
  {
   "cell_type": "code",
   "execution_count": 2,
   "id": "75c90ef8-c551-40bd-8a5f-be67230adac9",
   "metadata": {},
   "outputs": [],
   "source": [
    "data={'no':[1,2,3,4,5,6,7,8,9,10,11,12,13,14,15],\n",
    "            'headvalue':[1.13, 1.55, 1.43, 0.92, 1.25, 1.36, 1.32, 0.85, 1.07, 1.48, 1.20, 1.33, 1.18, 1.22, 1.29]}"
   ]
  },
  {
   "cell_type": "code",
   "execution_count": 3,
   "id": "1d1d32e4-36f8-4398-8bbc-f5b4042cec11",
   "metadata": {},
   "outputs": [
    {
     "data": {
      "text/html": [
       "<div>\n",
       "<style scoped>\n",
       "    .dataframe tbody tr th:only-of-type {\n",
       "        vertical-align: middle;\n",
       "    }\n",
       "\n",
       "    .dataframe tbody tr th {\n",
       "        vertical-align: top;\n",
       "    }\n",
       "\n",
       "    .dataframe thead th {\n",
       "        text-align: right;\n",
       "    }\n",
       "</style>\n",
       "<table border=\"1\" class=\"dataframe\">\n",
       "  <thead>\n",
       "    <tr style=\"text-align: right;\">\n",
       "      <th></th>\n",
       "      <th>no</th>\n",
       "      <th>headvalue</th>\n",
       "    </tr>\n",
       "  </thead>\n",
       "  <tbody>\n",
       "    <tr>\n",
       "      <th>0</th>\n",
       "      <td>1</td>\n",
       "      <td>1.13</td>\n",
       "    </tr>\n",
       "    <tr>\n",
       "      <th>1</th>\n",
       "      <td>2</td>\n",
       "      <td>1.55</td>\n",
       "    </tr>\n",
       "    <tr>\n",
       "      <th>2</th>\n",
       "      <td>3</td>\n",
       "      <td>1.43</td>\n",
       "    </tr>\n",
       "    <tr>\n",
       "      <th>3</th>\n",
       "      <td>4</td>\n",
       "      <td>0.92</td>\n",
       "    </tr>\n",
       "    <tr>\n",
       "      <th>4</th>\n",
       "      <td>5</td>\n",
       "      <td>1.25</td>\n",
       "    </tr>\n",
       "    <tr>\n",
       "      <th>5</th>\n",
       "      <td>6</td>\n",
       "      <td>1.36</td>\n",
       "    </tr>\n",
       "    <tr>\n",
       "      <th>6</th>\n",
       "      <td>7</td>\n",
       "      <td>1.32</td>\n",
       "    </tr>\n",
       "    <tr>\n",
       "      <th>7</th>\n",
       "      <td>8</td>\n",
       "      <td>0.85</td>\n",
       "    </tr>\n",
       "    <tr>\n",
       "      <th>8</th>\n",
       "      <td>9</td>\n",
       "      <td>1.07</td>\n",
       "    </tr>\n",
       "    <tr>\n",
       "      <th>9</th>\n",
       "      <td>10</td>\n",
       "      <td>1.48</td>\n",
       "    </tr>\n",
       "    <tr>\n",
       "      <th>10</th>\n",
       "      <td>11</td>\n",
       "      <td>1.20</td>\n",
       "    </tr>\n",
       "    <tr>\n",
       "      <th>11</th>\n",
       "      <td>12</td>\n",
       "      <td>1.33</td>\n",
       "    </tr>\n",
       "    <tr>\n",
       "      <th>12</th>\n",
       "      <td>13</td>\n",
       "      <td>1.18</td>\n",
       "    </tr>\n",
       "    <tr>\n",
       "      <th>13</th>\n",
       "      <td>14</td>\n",
       "      <td>1.22</td>\n",
       "    </tr>\n",
       "    <tr>\n",
       "      <th>14</th>\n",
       "      <td>15</td>\n",
       "      <td>1.29</td>\n",
       "    </tr>\n",
       "  </tbody>\n",
       "</table>\n",
       "</div>"
      ],
      "text/plain": [
       "    no  headvalue\n",
       "0    1       1.13\n",
       "1    2       1.55\n",
       "2    3       1.43\n",
       "3    4       0.92\n",
       "4    5       1.25\n",
       "5    6       1.36\n",
       "6    7       1.32\n",
       "7    8       0.85\n",
       "8    9       1.07\n",
       "9   10       1.48\n",
       "10  11       1.20\n",
       "11  12       1.33\n",
       "12  13       1.18\n",
       "13  14       1.22\n",
       "14  15       1.29"
      ]
     },
     "execution_count": 3,
     "metadata": {},
     "output_type": "execute_result"
    }
   ],
   "source": [
    "data1=pd.DataFrame(data)\n",
    "data1"
   ]
  },
  {
   "cell_type": "code",
   "execution_count": 4,
   "id": "75a20729-0994-408c-9397-521e63edd8d7",
   "metadata": {},
   "outputs": [
    {
     "name": "stdout",
     "output_type": "stream",
     "text": [
      "Gain at 99% confidence interval is: [0.6636 1.8137]\n"
     ]
    }
   ],
   "source": [
    "n=15\n",
    "head=stats.t.interval(0.99,df=n-1,\n",
    "loc=data1.headvalue.mean(),\n",
    "scale=data1.headvalue.std())\n",
    "print('Gain at 99% confidence interval is:',np.round(head,4))"
   ]
  },
  {
   "cell_type": "code",
   "execution_count": 5,
   "id": "60ce5e89-0dc2-42f1-9fb4-c3012aaa7388",
   "metadata": {},
   "outputs": [
    {
     "name": "stdout",
     "output_type": "stream",
     "text": [
      "Gain at 99% confidence interval is: [0.6433 1.834 ]\n"
     ]
    }
   ],
   "source": [
    "n=15\n",
    "head=stats.t.interval(0.99,df=n-1,\n",
    "loc=data1.headvalue.mean(),\n",
    "scale=0.2)\n",
    "print('Gain at 99% confidence interval is:',np.round(head,4))"
   ]
  },
  {
   "cell_type": "code",
   "execution_count": 6,
   "id": "3d20027b-54da-406f-9db7-0ffca7ff3506",
   "metadata": {},
   "outputs": [
    {
     "name": "stdout",
     "output_type": "stream",
     "text": [
      "Population Standard Deviation: 0.18661427836285438\n"
     ]
    }
   ],
   "source": [
    "#Population standard deviation (ddof=0)\n",
    "population_std=np.std(data1['headvalue'],ddof=0)\n",
    "print('Population Standard Deviation:',population_std)"
   ]
  }
 ],
 "metadata": {
  "kernelspec": {
   "display_name": "Python [conda env:base] *",
   "language": "python",
   "name": "conda-base-py"
  },
  "language_info": {
   "codemirror_mode": {
    "name": "ipython",
    "version": 3
   },
   "file_extension": ".py",
   "mimetype": "text/x-python",
   "name": "python",
   "nbconvert_exporter": "python",
   "pygments_lexer": "ipython3",
   "version": "3.12.7"
  }
 },
 "nbformat": 4,
 "nbformat_minor": 5
}
