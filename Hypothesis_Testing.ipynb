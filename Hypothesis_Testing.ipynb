{
 "cells": [
  {
   "cell_type": "markdown",
   "id": "967fc107-c770-461b-8480-c6adb2ce957b",
   "metadata": {},
   "source": [
    "Chi-Square Testing"
   ]
  },
  {
   "cell_type": "code",
   "execution_count": 1,
   "id": "37012e02-9e45-46ee-b525-d4b824ca9a1a",
   "metadata": {},
   "outputs": [],
   "source": [
    "import pandas as pd\n",
    "import numpy as np\n",
    "from scipy.stats import chi2_contingency, chi2"
   ]
  },
  {
   "cell_type": "code",
   "execution_count": 2,
   "id": "07f7634a-670e-4814-aafe-a8f5fb2f3639",
   "metadata": {},
   "outputs": [],
   "source": [
    "data = {\n",
    "    'Very Satisfied':[50,70],\n",
    "    'Satisfied':[80,100],\n",
    "    'Neutral':[60,90],\n",
    "    'Unsatisfied':[30,50],\n",
    "    'Very Unsatisfied':[20,50]\n",
    "}"
   ]
  },
  {
   "cell_type": "code",
   "execution_count": 3,
   "id": "460833fe-e311-437c-b979-b9cf123a72a6",
   "metadata": {},
   "outputs": [
    {
     "name": "stdout",
     "output_type": "stream",
     "text": [
      "Contingency Table:\n",
      "                   Very Satisfied  Satisfied  Neutral  Unsatisfied  \\\n",
      "Smart Thermostat              50         80       60           30   \n",
      "Smart Light                   70        100       90           50   \n",
      "\n",
      "                  Very Unsatisfied  \n",
      "Smart Thermostat                20  \n",
      "Smart Light                     50   \n",
      "\n"
     ]
    }
   ],
   "source": [
    "df = pd.DataFrame(data, index=['Smart Thermostat','Smart Light'])\n",
    "print('Contingency Table:\\n',df,'\\n')"
   ]
  },
  {
   "cell_type": "code",
   "execution_count": 5,
   "id": "0c72f2a8-8d3a-4692-9d35-ef2fc628f98d",
   "metadata": {},
   "outputs": [
    {
     "name": "stdout",
     "output_type": "stream",
     "text": [
      "Step1: State the Hypotheses\n",
      "H0: There is no association between device type and customer satisfaction.\n",
      "H1: There is a significant association between device type and customer satisfaction.\n"
     ]
    }
   ],
   "source": [
    "print('Step1: State the Hypotheses')\n",
    "print('H0: There is no association between device type and customer satisfaction.')\n",
    "print('H1: There is a significant association between device type and customer satisfaction.')"
   ]
  },
  {
   "cell_type": "code",
   "execution_count": 6,
   "id": "5e560b2a-39e5-46fa-a520-42256279a422",
   "metadata": {},
   "outputs": [],
   "source": [
    "chi2_stat, p_val, dof, expected = chi2_contingency(df)"
   ]
  },
  {
   "cell_type": "code",
   "execution_count": 9,
   "id": "a0355a0b-35c1-406a-af73-b0370fc7ccd8",
   "metadata": {},
   "outputs": [
    {
     "name": "stdout",
     "output_type": "stream",
     "text": [
      "Step2: Chi-Square Test Results\n",
      "Chi-Square Statistic = 5.6382\n",
      "Degrees of Freedom = 4\n",
      "P-Value = 0.2278\n",
      "\n",
      "Expected Frequencies:\n",
      "                   Very Satisfied  Satisfied  Neutral  Unsatisfied  \\\n",
      "Smart Thermostat            48.0       72.0     60.0         32.0   \n",
      "Smart Light                 72.0      108.0     90.0         48.0   \n",
      "\n",
      "                  Very Unsatisfied  \n",
      "Smart Thermostat              28.0  \n",
      "Smart Light                   42.0  \n"
     ]
    }
   ],
   "source": [
    "print('Step2: Chi-Square Test Results')\n",
    "print(f'Chi-Square Statistic = {chi2_stat:.4f}')\n",
    "print(f'Degrees of Freedom = {dof}')\n",
    "print(f'P-Value = {p_val:.4f}')\n",
    "print('\\nExpected Frequencies:\\n', pd.DataFrame(expected, index=df.index, columns=df.columns))"
   ]
  },
  {
   "cell_type": "code",
   "execution_count": 10,
   "id": "444a7c3c-1cba-4abc-9ca3-3b843f5914f9",
   "metadata": {},
   "outputs": [
    {
     "name": "stdout",
     "output_type": "stream",
     "text": [
      "Step3: Critical Value\n",
      "Critical Value at alpha=0.5 and dof=4 = 3.3567\n"
     ]
    }
   ],
   "source": [
    "alpha = 0.5\n",
    "critical_value = chi2.ppf(1 - alpha, dof)\n",
    "print('Step3: Critical Value')\n",
    "print(f'Critical Value at alpha={alpha} and dof={dof} = {critical_value:.4f}')"
   ]
  },
  {
   "cell_type": "code",
   "execution_count": 11,
   "id": "99031cac-3f6c-4a06-a855-b019f1d0f7d7",
   "metadata": {},
   "outputs": [
    {
     "name": "stdout",
     "output_type": "stream",
     "text": [
      "Step4: Decision\n",
      "Reject the Null Hypothesis (H0).\n",
      "Conclusion: There is a significant association between device type and customer satisfaction.\n"
     ]
    }
   ],
   "source": [
    "print('Step4: Decision')\n",
    "if chi2_stat > critical_value:\n",
    "    print('Reject the Null Hypothesis (H0).')\n",
    "    print('Conclusion: There is a significant association between device type and customer satisfaction.')\n",
    "else:\n",
    "    print('Fail to Reject the Null Hypothesis (H0).')\n",
    "    print('Conclusion: There is no significant association between device type and customer satisfaction.') "
   ]
  },
  {
   "cell_type": "code",
   "execution_count": null,
   "id": "17c68940-8300-410e-919e-1ca9d6b22843",
   "metadata": {},
   "outputs": [],
   "source": []
  },
  {
   "cell_type": "markdown",
   "id": "2171c89f-3e4c-4932-91da-8a5692a95905",
   "metadata": {},
   "source": [
    "Hypothesis Testing"
   ]
  },
  {
   "cell_type": "code",
   "execution_count": 12,
   "id": "1e279115-6eec-4698-ac52-d4e9ea2e1789",
   "metadata": {},
   "outputs": [],
   "source": [
    "import math\n",
    "from scipy.stats import norm"
   ]
  },
  {
   "cell_type": "code",
   "execution_count": 13,
   "id": "19a63be8-ae47-4bcc-8175-42a202d61845",
   "metadata": {},
   "outputs": [],
   "source": [
    "sample_mean = 3050  #x\n",
    "n = 25              #sample size\n",
    "X_mean = 600        #mean number of units produced\n",
    "sigma_X = 25        #std dev of units\n",
    "fixed_cost = 1000\n",
    "variable_cost = 5 "
   ]
  },
  {
   "cell_type": "code",
   "execution_count": 14,
   "id": "33134174-8d1b-4495-b052-e6d78c96a2d6",
   "metadata": {},
   "outputs": [
    {
     "name": "stdout",
     "output_type": "stream",
     "text": [
      "Step1: Hypothese\n",
      "H0: The weekly operating cost follows the theoretical model (W = 1000 + 5X).\n",
      "H1: The weekly operating cost is higher than the theoretical model.\n"
     ]
    }
   ],
   "source": [
    "print('Step1: Hypothese')\n",
    "print('H0: The weekly operating cost follows the theoretical model (W = 1000 + 5X).')\n",
    "print('H1: The weekly operating cost is higher than the theoretical model.')"
   ]
  },
  {
   "cell_type": "code",
   "execution_count": 16,
   "id": "0f93589b-324a-4ce1-a9f7-362845bfadcf",
   "metadata": {},
   "outputs": [
    {
     "name": "stdout",
     "output_type": "stream",
     "text": [
      "Step2: Theoretical mean weeekly cost\n",
      "Theoretical Mean(μ) = 4000\n"
     ]
    }
   ],
   "source": [
    "theoretical_mean = fixed_cost + variable_cost * X_mean\n",
    "print('Step2: Theoretical mean weeekly cost')\n",
    "print(f'Theoretical Mean(μ) = {theoretical_mean}')"
   ]
  },
  {
   "cell_type": "code",
   "execution_count": 17,
   "id": "061fcaf2-4d3b-41dc-bb71-2ab54023e882",
   "metadata": {},
   "outputs": [
    {
     "name": "stdout",
     "output_type": "stream",
     "text": [
      "step3: Standard deviation of weekly cost\n",
      "σ = 125\n"
     ]
    }
   ],
   "source": [
    "sigma = variable_cost * sigma_X\n",
    "print('step3: Standard deviation of weekly cost')\n",
    "print(f'σ = {sigma}') "
   ]
  },
  {
   "cell_type": "code",
   "execution_count": 18,
   "id": "71fb1193-2c17-4794-a456-04d4578906d8",
   "metadata": {},
   "outputs": [
    {
     "name": "stdout",
     "output_type": "stream",
     "text": [
      "Step4: Test Statistic\n",
      "Z = -38.0000\n"
     ]
    }
   ],
   "source": [
    "test_stat = (sample_mean - theoretical_mean) / (sigma / math.sqrt(n))\n",
    "print('Step4: Test Statistic')\n",
    "print(f'Z = {test_stat:.4f}')"
   ]
  },
  {
   "cell_type": "code",
   "execution_count": 19,
   "id": "ed472ff8-063c-4eeb-8fa4-9705c3a0d567",
   "metadata": {},
   "outputs": [
    {
     "name": "stdout",
     "output_type": "stream",
     "text": [
      "Step5: Critical Value\n",
      "Critical Value (Z_critical at α=0.05) = 0.0000\n"
     ]
    }
   ],
   "source": [
    "alpha = 0.5\n",
    "critical_value = norm.ppf(1 - alpha)\n",
    "print('Step5: Critical Value')\n",
    "print(f'Critical Value (Z_critical at α=0.05) = {critical_value:.4f}')"
   ]
  },
  {
   "cell_type": "code",
   "execution_count": 20,
   "id": "4e34b91a-9ff6-4a11-90ac-19fcc0029956",
   "metadata": {},
   "outputs": [
    {
     "name": "stdout",
     "output_type": "stream",
     "text": [
      "Step6: Decision\n",
      "Fail to Reject H0: There is no sufficient evidence that costs are higher than the model suggests.\n"
     ]
    }
   ],
   "source": [
    "print('Step6: Decision')\n",
    "if test_stat > critical_value:\n",
    "    print('Reject H0: There is evidence that weekly operating costs are higher than the model suggests.')\n",
    "else:\n",
    "    print('Fail to Reject H0: There is no sufficient evidence that costs are higher than the model suggests.')"
   ]
  },
  {
   "cell_type": "code",
   "execution_count": null,
   "id": "f2f28e15-d34d-4c54-91ee-74a8f648a04d",
   "metadata": {},
   "outputs": [],
   "source": []
  }
 ],
 "metadata": {
  "kernelspec": {
   "display_name": "Python 3 (ipykernel)",
   "language": "python",
   "name": "python3"
  },
  "language_info": {
   "codemirror_mode": {
    "name": "ipython",
    "version": 3
   },
   "file_extension": ".py",
   "mimetype": "text/x-python",
   "name": "python",
   "nbconvert_exporter": "python",
   "pygments_lexer": "ipython3",
   "version": "3.12.7"
  }
 },
 "nbformat": 4,
 "nbformat_minor": 5
}
